{
 "cells": [
  {
   "cell_type": "code",
   "execution_count": 8,
   "metadata": {
    "id": "av0UDbpTwnzr"
   },
   "outputs": [],
   "source": [
    "import numpy as np\n",
    "from scipy import stats "
   ]
  },
  {
   "cell_type": "markdown",
   "metadata": {},
   "source": [
    "**One sample t-test**\n",
    "\n",
    "Determine the hypothesis\n",
    "\n",
    "H0 : population mean is greater or equal to sample mean (μ> = x)\n",
    "H1 : population mean is less than sample mean (μ< x)"
   ]
  },
  {
   "cell_type": "markdown",
   "metadata": {},
   "source": [
    "Next, we will create a random sample or we can read it from a data frame."
   ]
  },
  {
   "cell_type": "code",
   "execution_count": 9,
   "metadata": {
    "colab": {
     "base_uri": "https://localhost:8080/"
    },
    "id": "FTITiKvaw_B_",
    "outputId": "c314d66b-75a8-4061-b689-2d04aa75f4b1"
   },
   "outputs": [
    {
     "name": "stdout",
     "output_type": "stream",
     "text": [
      "sample mean : 157.21428571428572\n",
      "standard error: 6.034914208534632\n",
      "t static: 1.2901118419717794\n",
      "Critical value for t two tailed: 2.1603686564610127\n",
      "Critical value for t one tailed: 1.7709333959867988\n",
      "p-value: 0.21948866305060366\n"
     ]
    }
   ],
   "source": [
    "sample=[183, 152, 178, 157, 194, 163, 144, 114, 178, 152, 118, 158, 172, 138]\n",
    "\n",
    "\n",
    "pop_mean=165\n",
    "\n",
    "# I have created a random sample stored in a variable sample and defined the population mean in the variable pop_mean. \n",
    "#Let’s calculate mean for sample and standard error for the sample.\n",
    "\n",
    "mean = np.mean(sample)\n",
    "std_error = np.std(sample) / np.sqrt(len(sample))\n",
    "print(\"sample mean :\",mean)\n",
    "print(\"standard error:\",std_error)\n",
    "\n",
    "# According to the formula we need sample mean and standard error. The formula for the standard error is:\n",
    "\n",
    "#                                    standard error= (s / √n)\n",
    "\n",
    "#Where,\n",
    "\n",
    "# s  = standard deviation of the sample\n",
    "# n  = sample size\n",
    "\n",
    "# np.std() is used for calculating the standard deviation\n",
    "# np.sqrt(len()) is used to calculate the square root of sample size\n",
    "\n",
    "# Let’s calculate the t-static, t-critical and p-value for the comparison.\n",
    "\n",
    "# calculate t statistics\n",
    "t = abs(mean - pop_mean) / std_error\n",
    "print('t static:',t)\n",
    "# two-tailed critical value at alpha = 0.05\n",
    "# q is lower tail probability and df is the degrees of freedom\n",
    "t_c = stats.t.ppf(q=0.975, df=13)\n",
    "print(\"Critical value for t two tailed:\",t_c)\n",
    "\n",
    "\n",
    "# one-tailed critical value at alpha = 0.05\n",
    "t_c = stats.t.ppf(q=0.95, df=13)\n",
    "print(\"Critical value for t one tailed:\",t_c)\n",
    "\n",
    "\n",
    "# get two-tailed p value\n",
    "p_value = 2*(1-stats.t.cdf(x=t, df=13))\n",
    "print(\"p-value:\",p_value)"
   ]
  },
  {
   "cell_type": "markdown",
   "metadata": {},
   "source": [
    "**Two sample t-test**\n",
    "\n",
    "First, we will specify the hypothesis:\n",
    "\n",
    "H0 : There is no significant mean difference (μ1= μ2)\n",
    "H1 : There is significant mean difference (μ1!= μ2)"
   ]
  },
  {
   "cell_type": "code",
   "execution_count": 10,
   "metadata": {
    "id": "x_dItK8TDV1w"
   },
   "outputs": [],
   "source": [
    "sample_1=[13.4,10.9,11.2,11.8,14,15.3,14.2,12.6,17,16.2,16.5,15.7]\n",
    "sample_2=[12,11.7,10.7,11.2,14.8,14.4,13.9,13.7,16.9,16,15.6,16]"
   ]
  },
  {
   "cell_type": "markdown",
   "metadata": {},
   "source": [
    "I have created two random samples containing a list of random float numbers. Calculate a mean for sample and variance for both the variance"
   ]
  },
  {
   "cell_type": "code",
   "execution_count": 11,
   "metadata": {
    "id": "kwZ1Zt6GFlJ2"
   },
   "outputs": [],
   "source": [
    "sample1_bar, sample2_bar = np.mean(sample_1), np.mean(sample_2)\n",
    "n1, n2 = len(sample_1), len(sample_2)\n",
    "var_sample1, var_sample2= np.var(sample_1, ddof=1), np.var(sample_2, ddof=1)\n",
    "\n",
    "# pooled sample variance\n",
    "var = ( ((n1-1)*var_sample1) + ((n2-1)*var_sample2) ) / (n1+n2-2)\n",
    "\n",
    "# standard error\n",
    "std_error = np.sqrt(var * (1.0 / n1 + 1.0 / n2))\n",
    "\n"
   ]
  },
  {
   "cell_type": "code",
   "execution_count": 12,
   "metadata": {
    "colab": {
     "base_uri": "https://localhost:8080/"
    },
    "id": "rmKvvcOIF7pi",
    "outputId": "23ece20c-5d42-4078-d943-aca8f45e5dad"
   },
   "outputs": [
    {
     "name": "stdout",
     "output_type": "stream",
     "text": [
      "sample_1 mean: 14.0667\n",
      "sample_2 mean: 13.9083\n",
      "varience of sample_1: 4.4788\n",
      "varience of sample_2: 4.3445\n",
      "pooled sample varience: 4.411628787878788\n",
      "standard error: 0.8574797167551339\n"
     ]
    }
   ],
   "source": [
    "print(\"sample_1 mean:\",np.round(sample1_bar,4))\n",
    "print(\"sample_2 mean:\",np.round(sample2_bar,4))\n",
    "print(\"varience of sample_1:\",np.round(var_sample1,4))\n",
    "print(\"varience of sample_2:\",np.round(var_sample2,4))\n",
    "print(\"pooled sample varience:\",var)\n",
    "print(\"standard error:\",std_error)"
   ]
  },
  {
   "cell_type": "markdown",
   "metadata": {},
   "source": [
    "Let’s calculate the t-static, t-critical and p-value for the comparison."
   ]
  },
  {
   "cell_type": "code",
   "execution_count": 13,
   "metadata": {
    "colab": {
     "base_uri": "https://localhost:8080/"
    },
    "id": "NgF_RQ8JGX1S",
    "outputId": "b63e635b-adb7-41a6-8dda-e2e8f0c25771"
   },
   "outputs": [
    {
     "name": "stdout",
     "output_type": "stream",
     "text": [
      "t static: 0.1846496543760765\n",
      "Critical value for t two tailed: 2.1788128296634177\n",
      "Critical value for t one tailed: 1.782287555649159\n",
      "p-value for two tailed: 0.8565876978891662\n",
      "p-value for one tailed: 0.4282938489445831\n"
     ]
    }
   ],
   "source": [
    "# calculate t statistics\n",
    "t = abs(sample1_bar - sample2_bar) / std_error\n",
    "print('t static:',t)\n",
    "# two-tailed critical value at alpha = 0.05\n",
    "t_c = stats.t.ppf(q=0.975, df=12)\n",
    "print(\"Critical value for t two tailed:\",t_c)\n",
    "\n",
    "\n",
    "# one-tailed critical value at alpha = 0.05\n",
    "t_c = stats.t.ppf(q=0.95, df=12)\n",
    "print(\"Critical value for t one tailed:\",t_c)\n",
    "\n",
    "\n",
    "# get two-tailed p value\n",
    "p_two = 2*(1-stats.t.cdf(x=t, df=12))\n",
    "print(\"p-value for two tailed:\",p_two)\n",
    "\n",
    "# get one-tailed p value\n",
    "p_one = 1-stats.t.cdf(x=t, df=12)\n",
    "print(\"p-value for one tailed:\",p_one)\n"
   ]
  },
  {
   "cell_type": "markdown",
   "metadata": {},
   "source": [
    "**Paired t-test**\n",
    "\n",
    "First, we will specify the hypothesis:\n",
    "\n",
    "H0 : There is no change after the tuition (x̄1= x̄2)\n",
    "\n",
    "H1 : There is a change after the tuition (x̄1!= x̄2)"
   ]
  },
  {
   "cell_type": "code",
   "execution_count": 14,
   "metadata": {
    "id": "L80hxyaKLFAZ"
   },
   "outputs": [],
   "source": [
    "alpha=0.05\n",
    "result_1 =[23, 20, 19, 21, 18, 20, 18, 17, 23, 16, 19]\n",
    "result_2=[24, 19, 22, 18, 20, 22, 20, 20, 23, 20, 18]"
   ]
  },
  {
   "cell_type": "markdown",
   "metadata": {},
   "source": [
    "The above sample is the record of students’ marks before and after the tuition. Calculate a mean, standard error, statics, t-critical and p-value"
   ]
  },
  {
   "cell_type": "code",
   "execution_count": 15,
   "metadata": {
    "colab": {
     "base_uri": "https://localhost:8080/"
    },
    "id": "fqEBo6AZNrC2",
    "outputId": "1cb34dd6-c00d-440e-d47b-950b26923482"
   },
   "outputs": [
    {
     "name": "stdout",
     "output_type": "stream",
     "text": [
      "-1.7073311796734205 1.8124611228107335 0.11856467647601066\n"
     ]
    }
   ],
   "source": [
    "mean1, mean2 = np.mean(result_1), np.mean(result_2)\n",
    "n = len(result_1)\n",
    "# sum squared difference between observations\n",
    "d1 = sum([(result_1[i]-result_2[i])**2 for i in range(n)])\n",
    "# sum difference between observations\n",
    "d2 = sum([result_1[i]-result_2[i] for i in range(n)])\n",
    "std_dev = np.sqrt((d1 - (d2**2 / n)) / (n - 1))\n",
    "# standard error of the difference between the means\n",
    "se = std_dev / np.sqrt(n)\n",
    "t_stat = (mean1 - mean2) / se\n",
    "df = n - 1\n",
    "# calculate the critical value\n",
    "critical =stats.t.ppf(1.0 - alpha, df)\n",
    "p = (1.0 - stats.t.cdf(abs(t_stat), df)) * 2.0\n",
    "print(t_stat,critical,p)"
   ]
  },
  {
   "cell_type": "code",
   "execution_count": 16,
   "metadata": {
    "colab": {
     "base_uri": "https://localhost:8080/"
    },
    "id": "PEDaG18SPG-z",
    "outputId": "ebefbe48-1570-4852-dbf7-59df892ef1a8"
   },
   "outputs": [
    {
     "name": "stdout",
     "output_type": "stream",
     "text": [
      "sample_1 mean: 14.0667\n",
      "sample_2 mean: 13.9083\n",
      "varience of sample_1: 4.4788\n",
      "varience of sample_2: 4.3445\n",
      "pooled sample varience: 4.411628787878788\n",
      "standard error: 0.8574797167551339\n"
     ]
    }
   ],
   "source": [
    "print(\"sample_1 mean:\",np.round(sample1_bar,4))\n",
    "print(\"sample_2 mean:\",np.round(sample2_bar,4))\n",
    "print(\"varience of sample_1:\",np.round(var_sample1,4))\n",
    "print(\"varience of sample_2:\",np.round(var_sample2,4))\n",
    "print(\"pooled sample varience:\",var)\n",
    "print(\"standard error:\",std_error)"
   ]
  }
 ],
 "metadata": {
  "colab": {
   "collapsed_sections": [],
   "provenance": []
  },
  "kernelspec": {
   "display_name": "Python 3 (ipykernel)",
   "language": "python",
   "name": "python3"
  },
  "language_info": {
   "codemirror_mode": {
    "name": "ipython",
    "version": 3
   },
   "file_extension": ".py",
   "mimetype": "text/x-python",
   "name": "python",
   "nbconvert_exporter": "python",
   "pygments_lexer": "ipython3",
   "version": "3.10.7"
  }
 },
 "nbformat": 4,
 "nbformat_minor": 1
}
